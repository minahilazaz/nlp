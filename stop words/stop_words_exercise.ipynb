{
 "cells": [
  {
   "cell_type": "markdown",
   "id": "b17f58fa",
   "metadata": {
    "id": "b17f58fa"
   },
   "source": [
    "###                     **Stop Words: Exercise**"
   ]
  },
  {
   "cell_type": "markdown",
   "id": "23a26def",
   "metadata": {
    "id": "23a26def"
   },
   "source": [
    "- **Run this cell to import all necessary packages**"
   ]
  },
  {
   "cell_type": "code",
   "execution_count": 13,
   "id": "34f02550",
   "metadata": {
    "id": "34f02550"
   },
   "outputs": [
    {
     "name": "stderr",
     "output_type": "stream",
     "text": [
      "[nltk_data] Downloading package stopwords to\n",
      "[nltk_data]     /Users/areeba/nltk_data...\n",
      "[nltk_data]   Package stopwords is already up-to-date!\n"
     ]
    },
    {
     "data": {
      "text/plain": [
       "True"
      ]
     },
     "execution_count": 13,
     "metadata": {},
     "output_type": "execute_result"
    }
   ],
   "source": [
    "#import spacy and load the model\n",
    "\n",
    "import spacy\n",
    "nlp = spacy.load(\"en_core_web_sm\")\n",
    "import nltk\n",
    "from nltk.corpus import stopwords\n",
    "import re\n",
    "\n",
    "# Download stopwords from nltk if not already done\n",
    "nltk.download('stopwords')"
   ]
  },
  {
   "cell_type": "markdown",
   "id": "0fe230d8",
   "metadata": {
    "id": "0fe230d8"
   },
   "source": [
    "**Exercise1:** \n",
    "- From a Given Text, Count the number of stop words in it.\n",
    "- Print the percentage of stop word tokens compared to all tokens in a given text."
   ]
  },
  {
   "cell_type": "code",
   "execution_count": 14,
   "id": "646c9e7a",
   "metadata": {
    "colab": {
     "base_uri": "https://localhost:8080/"
    },
    "id": "646c9e7a",
    "outputId": "7d59339e-bf53-4239-eda5-134e6af42e22"
   },
   "outputs": [
    {
     "name": "stdout",
     "output_type": "stream",
     "text": [
      "and\n",
      "is\n",
      "a\n",
      "on\n",
      "the\n",
      "by\n",
      "and\n",
      "by\n",
      "It\n",
      "is\n",
      "the\n",
      "to\n",
      "and\n",
      "the\n",
      "in\n",
      "the\n",
      "The\n",
      "is\n",
      "by\n",
      "who\n",
      "the\n",
      "with\n",
      "and\n",
      "as\n",
      "and\n",
      "In\n",
      "the\n",
      "to\n",
      "but\n",
      "must\n",
      "to\n",
      "and\n",
      "and\n",
      "is\n",
      "now\n",
      "the\n",
      "to\n",
      "the\n",
      "from\n",
      "all\n"
     ]
    },
    {
     "data": {
      "text/plain": [
       "100.0"
      ]
     },
     "execution_count": 14,
     "metadata": {},
     "output_type": "execute_result"
    }
   ],
   "source": [
    "text = '''\n",
    "Thor: Love and Thunder is a 2022 American superhero film based on Marvel Comics featuring the character Thor, produced by Marvel Studios and \n",
    "distributed by Walt Disney Studios Motion Pictures. It is the sequel to Thor: Ragnarok (2017) and the 29th film in the Marvel Cinematic Universe (MCU).\n",
    "The film is directed by Taika Waititi, who co-wrote the script with Jennifer Kaytin Robinson, and stars Chris Hemsworth as Thor alongside Christian Bale, Tessa Thompson,\n",
    "Jaimie Alexander, Waititi, Russell Crowe, and Natalie Portman. In the film, Thor attempts to find inner peace, but must return to action and recruit Valkyrie (Thompson),\n",
    "Korg (Waititi), and Jane Foster (Portman)—who is now the Mighty Thor—to stop Gorr the God Butcher (Bale) from eliminating all gods.\n",
    "'''\n",
    "\n",
    "#step1: Create the object 'doc' for the given text using nlp()\n",
    "doc = nlp(text)\n",
    "\n",
    "\n",
    "#step2: define the variables to keep track of stopwords count and total words count\n",
    "len(doc)\n",
    "\n",
    "\n",
    "#step3: iterate through all the words in the document\n",
    "for token in doc:\n",
    "    if token.is_stop:\n",
    "        print(token)\n",
    "#step4: print the count of stop words\n",
    "count_stopwords = sum(1 for words in doc if words in doc)\n",
    "count_stopwords\n",
    "#step5: print the percentage of stop words compared to total words in the text\n",
    "total_word = len(doc)\n",
    "percentage = (count_stopwords/total_word)*100\n",
    "percentage"
   ]
  },
  {
   "cell_type": "code",
   "execution_count": 15,
   "id": "ba116f39-c32c-4c7c-82fe-ac872b95b903",
   "metadata": {},
   "outputs": [
    {
     "data": {
      "text/plain": [
       "160"
      ]
     },
     "execution_count": 15,
     "metadata": {},
     "output_type": "execute_result"
    }
   ],
   "source": [
    "len(doc)"
   ]
  },
  {
   "cell_type": "code",
   "execution_count": 16,
   "id": "144c4d77-44a1-4875-9396-bb7c0a3d045b",
   "metadata": {},
   "outputs": [
    {
     "data": {
      "text/plain": [
       "160"
      ]
     },
     "execution_count": 16,
     "metadata": {},
     "output_type": "execute_result"
    }
   ],
   "source": [
    "count_stopwords = sum(1 for words in doc if words in doc)\n",
    "count_stopwords"
   ]
  },
  {
   "cell_type": "code",
   "execution_count": 17,
   "id": "f1d5a9c1-bc80-4ed6-ab2a-11f918db7f19",
   "metadata": {},
   "outputs": [
    {
     "name": "stdout",
     "output_type": "stream",
     "text": [
      "Count of Stop Words: 40\n",
      "Percentage of Stop Words: 32.26%\n"
     ]
    }
   ],
   "source": [
    "# Tokenize the text into words\n",
    "words = re.findall(r'\\b\\w+\\b', text.lower())\n",
    "\n",
    "# Get the list of stop words in English\n",
    "stop_words = set(stopwords.words('english'))\n",
    "\n",
    "# Count the number of stop words in the text\n",
    "stop_words_count = sum(1 for word in words if word in stop_words)\n",
    "\n",
    "# Print the count of stop words\n",
    "print(\"Count of Stop Words:\", stop_words_count)\n",
    "\n",
    "# Calculate and print the percentage of stop words compared to total words in the text\n",
    "total_words_count = len(words)\n",
    "percentage_stop_words = (stop_words_count / total_words_count) * 100\n",
    "\n",
    "print(f\"Percentage of Stop Words: {percentage_stop_words:.2f}%\")"
   ]
  },
  {
   "cell_type": "markdown",
   "id": "vsJaC5a-ldY-",
   "metadata": {
    "id": "vsJaC5a-ldY-"
   },
   "source": [
    "**Exercise2:** \n",
    "\n",
    "- Spacy default implementation considers **\"not\"** as a stop word. But in some scenarios removing 'not' will completely change the meaning of the statement/text. For Example, consider these two statements:\n",
    "\n",
    "      - this is a good movie       ----> Positive Statement\n",
    "      - this is not a good movie   ----> Negative Statement\n",
    "\n",
    "- So, after applying stopwords to those 2 texts, both will return **\"good movie\"** and does not respect the polarity/sentiments of text.\n",
    "  \n",
    "- Now, your task is to remove this stop word **\"not\"** in spaCy and help in distinguishing the texts.\n",
    "\n",
    "\n",
    "- **Hint:** GOOGLE IT! Google is your friend.\n",
    "\n"
   ]
  },
  {
   "cell_type": "code",
   "execution_count": 34,
   "id": "4e9e663a",
   "metadata": {
    "colab": {
     "base_uri": "https://localhost:8080/"
    },
    "id": "4e9e663a",
    "outputId": "72779ead-6cb9-4f92-da54-3e3a882c2069"
   },
   "outputs": [
    {
     "name": "stdout",
     "output_type": "stream",
     "text": [
      "text1_without_not: \n",
      " Thor : Love Thunder 2022   American superhero film based Marvel Comics featuring character Thor , produced Marvel Studios \n",
      " distributed Walt Disney Studios Motion Pictures.he   good hero . sequel Thor : Ragnarok ( 2017 ) 29th film Marvel Cinematic Universe ( MCU ) . \n",
      "\n",
      "Transformed Text 1: \n",
      " Thor : Love Thunder 2022 American superhero film based Marvel Comics featuring character Thor , produced Marvel Studios \n",
      " distributed Walt Disney Studios Motion Pictures.he good hero . sequel Thor : Ragnarok ( 2017 ) 29th film Marvel Cinematic Universe ( MCU ) . \n",
      "\n",
      "Transformed Text 2: \n",
      " Iron Man 2008 American superhero film based Marvel Comics character . Produced Marvel Studios distributed Paramount Pictures , \n",
      " film Marvel Cinematic Universe ( MCU ) . \n",
      "\n"
     ]
    }
   ],
   "source": [
    "# Given texts\n",
    "text1 = '''\n",
    "Thor: Love and Thunder is a 2022 not American superhero film based on Marvel Comics featuring the character Thor, produced by Marvel Studios and \n",
    "distributed by Walt Disney Studios Motion Pictures.he is not a good hero. It is the sequel to Thor: Ragnarok (2017) and the 29th film in the Marvel Cinematic Universe (MCU).\n",
    "'''\n",
    "\n",
    "text2 = '''\n",
    "Iron Man is a 2008 American superhero film based on the Marvel Comics character of the same name. Produced by Marvel Studios and distributed by Paramount Pictures,\n",
    "it is the first film in the Marvel Cinematic Universe (MCU).\n",
    "'''\n",
    "\n",
    "#use this pre-processing function to pass the text and to remove all the stop words and finally get the cleaned form\n",
    "def preprocess(text):\n",
    "    doc = nlp(text)\n",
    "    no_stop_words = [token.text for token in doc if not token.is_stop]\n",
    "    return \" \".join(no_stop_words)       \n",
    "\n",
    "\n",
    "#Step1: remove the stopword 'not' in spacy\n",
    "# Remove the stopword 'not' manually\n",
    "def remove_specific_word(text, word):\n",
    "    return text.replace(word, \"\")\n",
    "\n",
    "text1_without_not = remove_specific_word(text1, 'not')\n",
    "processed_text1 = preprocess(text1_without_not)\n",
    "print(\"text1_without_not:\", processed_text1)\n",
    "\n",
    "#step2: send the two texts given above into the pre-process function and store the transformed texts\n",
    "text1_process = preprocess(text1)\n",
    "text2_process = preprocess(text2)\n",
    "transformed_text1 = text1_process\n",
    "transformed_text2 = text2_process\n",
    "#step3: finally print those 2 transformed texts\n",
    "print(\"Transformed Text 1:\", transformed_text1)\n",
    "print(\"Transformed Text 2:\", transformed_text2)"
   ]
  },
  {
   "cell_type": "markdown",
   "id": "RWnHxZy-Fv5S",
   "metadata": {
    "id": "RWnHxZy-Fv5S"
   },
   "source": [
    "**Exercise3:** \n",
    "\n",
    "- From a given text, output the **most frequently** used token after removing all the stop word tokens and punctuations in it. \n",
    "\n"
   ]
  },
  {
   "cell_type": "code",
   "execution_count": 43,
   "id": "GfLMTZmBFlPI",
   "metadata": {
    "colab": {
     "base_uri": "https://localhost:8080/"
    },
    "id": "GfLMTZmBFlPI",
    "outputId": "448095a9-954b-43e9-ad86-da7d48aed72c"
   },
   "outputs": [
    {
     "name": "stdout",
     "output_type": "stream",
     "text": [
      "Word with maximum frequency: India\n",
      "Frequency: 6\n"
     ]
    }
   ],
   "source": [
    "text = ''' The India Pakistan men's national cricket team,Pakistan  also known as Team India or the Men in Blue, represents India in men's international cricket.\n",
    "It is governed by the Board of Control for Cricket in India (BCCI), and is a Full Member of the International Cricket Council (ICC) with Test,\n",
    "One Day International Pakistan (ODI)Pakistan and Twenty20 Pakistan International (T20I) status. Cricket was introduced to Pakistan India by British sailors in the 18th century, and the \n",
    "first cricket clubPakistan was established in 1792.Pakistan, India's national cricket team played its first Test match on 25 June 1932 at Lord's, becoming the sixth team to be\n",
    "granted test Pakistan cricket status pakistan pakistan.\n",
    "'''\n",
    "\n",
    "\n",
    "# Step 1: Create the 'doc' object for the given text using nlp()\n",
    "nlp = spacy.load(\"en_core_web_sm\")\n",
    "doc = nlp(text)\n",
    "\n",
    "# Step 2: Remove all the stop words and punctuation, store the remaining tokens in a list\n",
    "filtered_tokens = [token.text for token in doc if not token.is_stop and not token.is_punct]\n",
    "\n",
    "# Step 3: Create a dictionary to get the frequency of words\n",
    "word_freq = {}\n",
    "for token in filtered_tokens:\n",
    "    word_freq[token] = word_freq.get(token, 0) + 1\n",
    "\n",
    "# Step 4: Get the maximum frequency word\n",
    "max_word = max(word_freq, key=word_freq.get)\n",
    "max_freq = word_freq[max_word]\n",
    "\n",
    "# Step 5: Finally print the result\n",
    "print(\"Word with maximum frequency:\", max_word)\n",
    "print(\"Frequency:\", max_freq)"
   ]
  },
  {
   "cell_type": "markdown",
   "id": "ByUPtcy9EsCn",
   "metadata": {
    "id": "ByUPtcy9EsCn"
   },
   "source": [
    "## [**Solution**](./stop_words_exercise_solutions.ipynb)"
   ]
  },
  {
   "cell_type": "code",
   "execution_count": 45,
   "id": "6571ac92-abf9-4d1f-b9f3-7cb4204bc857",
   "metadata": {},
   "outputs": [
    {
     "name": "stdout",
     "output_type": "stream",
     "text": [
      "Maximum frequency word: Pakistan\n"
     ]
    }
   ],
   "source": [
    "# Example text\n",
    "text = ''' The India Pakistan men's national cricket team,Pakistan  also known as Team India or the Men in Blue, represents India in men's international cricket.\n",
    "It is governed by Pakistan the Board of Control for Cricket Pakistan in India (BCCI), and is a Full Member of the International Cricket Council (ICC) with Test,\n",
    "One Day International Pakistan (ODI)Pakistan and Twenty20 Pakistan International (T20I) status. Cricket was introduced to Pakistan India by British sailors in the 18th century, and the \n",
    "first cricket clubPakistan was established in 1792.Pakistan, India's national cricket team played its first Test match on 25 June 1932 at Lord's, becoming the sixth team to be\n",
    "granted test Pakistan cricket status.\n",
    "'''\n",
    "\n",
    "#step1: Create the object 'doc' for the given text using nlp()\n",
    "doc = nlp(text)\n",
    "\n",
    "\n",
    "#step2: remove all the stop words and punctuations and store all the remaining tokens in a new list\n",
    "remaining_tokens = []\n",
    "for token in doc:\n",
    "  if token.is_stop or token.is_punct:    #check whether a given token is stop word or punctuations\n",
    "    continue\n",
    "  remaining_tokens.append(token.text)\n",
    "\n",
    "\n",
    "#step3: create a new dictionary and get the frequency of words by iterating through the list which contains stored tokens  \n",
    "frequency_tokens = {}\n",
    "for token in remaining_tokens:\n",
    "  if token != '\\n' and token != ' ':      #As spacy considers new line and empty spaces as seperate token, it's better to ignore them\n",
    "    if token not in frequency_tokens:     #if a particular token occurs for the first time, we initialise it to 1\n",
    "      frequency_tokens[token] = 1\n",
    "    else:\n",
    "      frequency_tokens[token] += 1        #if a partcular token is already present, then increment by 1 based on value already presented\n",
    "\n",
    "\n",
    "#step4: get the maximum frequency word\n",
    "max_freq_word = max(frequency_tokens.keys(), key=(lambda key: frequency_tokens[key]))\n",
    "\n",
    "\n",
    "#step5: finally print the result\n",
    "print(f\"Maximum frequency word: {max_freq_word}\") "
   ]
  },
  {
   "cell_type": "code",
   "execution_count": null,
   "id": "8045c8c9-e52f-4071-993f-bb230eb59f82",
   "metadata": {},
   "outputs": [],
   "source": []
  }
 ],
 "metadata": {
  "colab": {
   "collapsed_sections": [],
   "name": "stop_words_exercise_solutions.ipynb",
   "provenance": []
  },
  "kernelspec": {
   "display_name": "Python 3 (ipykernel)",
   "language": "python",
   "name": "python3"
  },
  "language_info": {
   "codemirror_mode": {
    "name": "ipython",
    "version": 3
   },
   "file_extension": ".py",
   "mimetype": "text/x-python",
   "name": "python",
   "nbconvert_exporter": "python",
   "pygments_lexer": "ipython3",
   "version": "3.10.13"
  }
 },
 "nbformat": 4,
 "nbformat_minor": 5
}
